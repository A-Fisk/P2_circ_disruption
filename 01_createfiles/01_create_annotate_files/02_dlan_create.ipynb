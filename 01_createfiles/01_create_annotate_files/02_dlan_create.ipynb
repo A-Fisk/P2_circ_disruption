{
 "cells": [
  {
   "cell_type": "markdown",
   "metadata": {},
   "source": [
    "# DLAN file creation notebook\n",
    "\n",
    "\n",
    "This notebook will create the final version of the data that can be analysed for chapter 2/circadian disruption project. The data needs to be checked that the LDR is fine, and then annotated and saved. \n",
    "\n",
    "Explicit steps as follows: \n",
    "1. Import data  \n",
    "2. Visualise data  \n",
    "3. Remap the LDR so high = 200, low =0 <- may involve fixing any errors\n",
    "4. Find the transitions between the conditions \n",
    "5. Label the different conditions in the light_period column\n",
    "6. save the data \n"
   ]
  },
  {
   "cell_type": "code",
   "execution_count": 1,
   "metadata": {},
   "outputs": [],
   "source": [
    "import pathlib \n",
    "import pandas as pd\n",
    "import numpy as np\n",
    "import matplotlib.pyplot as plt\n",
    "%matplotlib inline\n",
    "import actigraphy_analysis.actogram_plot as act\n"
   ]
  },
  {
   "cell_type": "code",
   "execution_count": 2,
   "metadata": {},
   "outputs": [],
   "source": [
    "# set some constants \n",
    "chamber = \"6C\"\n",
    "label_col = \"light_period\"\n",
    "def quickplot(data):\n",
    "    data.plot(subplots=True,\n",
    "              figsize=(20,10))"
   ]
  },
  {
   "cell_type": "markdown",
   "metadata": {},
   "source": [
    "### Step One - Import the data"
   ]
  },
  {
   "cell_type": "code",
   "execution_count": 3,
   "metadata": {},
   "outputs": [],
   "source": [
    "input_dir = pathlib.Path(\"/Users/angusfisk/Documents/01_PhD_files/\"\n",
    "                         \"09_pirdata/03_experiment_files\")\n",
    "file_name = \"exp_11_6c_pir_data.csv\"\n",
    "file_path = input_dir / file_name\n",
    "data = pd.read_csv(file_path,\n",
    "                   index_col=0,\n",
    "                   parse_dates=True)"
   ]
  },
  {
   "cell_type": "code",
   "execution_count": 4,
   "metadata": {},
   "outputs": [],
   "source": [
    "# fix a few required settings in the dataframe\n",
    "# sort index\n",
    "# remove chamber column \n",
    "data.sort_index(inplace=True)\n",
    "chamber_col = data.pop(chamber)"
   ]
  },
  {
   "cell_type": "markdown",
   "metadata": {},
   "source": [
    "### Step Two - Visualise the data \n",
    "\n",
    "Check to see if any obvious errors, especially"
   ]
  }
 ],
 "metadata": {
  "kernelspec": {
   "display_name": "Python [default]",
   "language": "python",
   "name": "python3"
  },
  "language_info": {
   "codemirror_mode": {
    "name": "ipython",
    "version": 3
   },
   "file_extension": ".py",
   "mimetype": "text/x-python",
   "name": "python",
   "nbconvert_exporter": "python",
   "pygments_lexer": "ipython3",
   "version": "3.5.5"
  }
 },
 "nbformat": 4,
 "nbformat_minor": 2
}
