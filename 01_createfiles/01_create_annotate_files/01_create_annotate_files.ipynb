{
 "cells": [
  {
   "cell_type": "markdown",
   "metadata": {},
   "source": [
    "# Create data files notebook  \n",
    "\n",
    "This notebook will gather the data required for chapter 2/Circadian disruption project, fix issues, annotate, and save as needed.  \n",
    "\n",
    "Steps required:  \n",
    "1. Import \n",
    "\n",
    "\n",
    "This notebook will visualise the data for project P2\n",
    "circadian disruption as required to annotate. The final times\n",
    "will be put in a script which can be run to create \n",
    "the csv files from scratch "
   ]
  },
  {
   "cell_type": "markdown",
   "metadata": {},
   "source": [
    "### Step One  \n",
    "Import the data <-- where is the experiment data stored? "
   ]
  },
  {
   "cell_type": "code",
   "execution_count": 29,
   "metadata": {},
   "outputs": [],
   "source": [
    "import pandas as pd\n",
    "import matplotlib.pyplot as plt\n",
    "%matplotlib inline\n",
    "import actigraphy_analysis.preprocessing as prep"
   ]
  },
  {
   "cell_type": "code",
   "execution_count": null,
   "metadata": {},
   "outputs": [],
   "source": []
  }
 ],
 "metadata": {
  "kernelspec": {
   "display_name": "Python [conda env:P2_circ_disruption_environment]",
   "language": "python",
   "name": "conda-env-P2_circ_disruption_environment-py"
  },
  "language_info": {
   "codemirror_mode": {
    "name": "ipython",
    "version": 3
   },
   "file_extension": ".py",
   "mimetype": "text/x-python",
   "name": "python",
   "nbconvert_exporter": "python",
   "pygments_lexer": "ipython3",
   "version": "3.7.1"
  }
 },
 "nbformat": 4,
 "nbformat_minor": 2
}
